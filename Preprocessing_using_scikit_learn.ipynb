{
  "nbformat": 4,
  "nbformat_minor": 0,
  "metadata": {
    "colab": {
      "name": "Preprocessing using_scikit-learn",
      "provenance": [],
      "collapsed_sections": [],
      "authorship_tag": "ABX9TyPzPbUx7P3njZPL2wPfTRzI",
      "include_colab_link": true
    },
    "kernelspec": {
      "name": "python3",
      "display_name": "Python 3"
    }
  },
  "cells": [
    {
      "cell_type": "markdown",
      "metadata": {
        "id": "view-in-github",
        "colab_type": "text"
      },
      "source": [
        "<a href=\"https://colab.research.google.com/github/HarshadNSuthar/Preprocessing-using-scikit-learn/blob/master/Preprocessing_using_scikit_learn.ipynb\" target=\"_parent\"><img src=\"https://colab.research.google.com/assets/colab-badge.svg\" alt=\"Open In Colab\"/></a>"
      ]
    },
    {
      "cell_type": "code",
      "metadata": {
        "id": "5QpLL63qXSa3",
        "colab_type": "code",
        "colab": {}
      },
      "source": [
        "import sklearn.preprocessing as preprocessing"
      ],
      "execution_count": 0,
      "outputs": []
    },
    {
      "cell_type": "markdown",
      "metadata": {
        "id": "C-tew2mXXVaW",
        "colab_type": "text"
      },
      "source": [
        "**Standardization**\n",
        "(Standardization or Mean Removal is the process of transforming each feature vector into a normal distribution with mean 0 and variance 1.)"
      ]
    },
    {
      "cell_type": "code",
      "metadata": {
        "id": "wB07R0CHXhEh",
        "colab_type": "code",
        "outputId": "490fda89-4b73-452e-e70f-d30e9c8858d2",
        "colab": {
          "base_uri": "https://localhost:8080/",
          "height": 54
        }
      },
      "source": [
        "\"\"\"standardizer = preprocessing.StandardScaler()\n",
        "standardizer = standardizer.fit(.data)\n",
        "breast_cancer_standardized = standardizer.transform(.data)\n",
        "\n",
        "print('Mean of each feature after Standardization :\\n\\n')\n",
        "print(breast_cancer_standardized.mean(axis=0))\n",
        "print('\\nStd. of each feature after Standardization :\\n\\n')\n",
        "print(breast_cancer_standardized.std(axis=0))\"\"\""
      ],
      "execution_count": 0,
      "outputs": [
        {
          "output_type": "execute_result",
          "data": {
            "text/plain": [
              "\"standardizer = preprocessing.StandardScaler()\\nstandardizer = standardizer.fit(.data)\\nbreast_cancer_standardized = standardizer.transform(.data)\\n\\nprint('Mean of each feature after Standardization :\\n\\n')\\nprint(breast_cancer_standardized.mean(axis=0))\\nprint('\\nStd. of each feature after Standardization :\\n\\n')\\nprint(breast_cancer_standardized.std(axis=0))\""
            ]
          },
          "metadata": {
            "tags": []
          },
          "execution_count": 4
        }
      ]
    },
    {
      "cell_type": "markdown",
      "metadata": {
        "id": "kwRCBmOxYij_",
        "colab_type": "text"
      },
      "source": [
        "**Scaling**(Scaling transforms existing data values to lie between a minimum and maximum value.)"
      ]
    },
    {
      "cell_type": "code",
      "metadata": {
        "id": "2T_NupZ-XoIQ",
        "colab_type": "code",
        "outputId": "5a0796b4-0ee7-4ff4-ac46-c6c39649841b",
        "colab": {
          "base_uri": "https://localhost:8080/",
          "height": 34
        }
      },
      "source": [
        "\"\"\"min_max_scaler = preprocessing.MinMaxScaler(feature_range=(0, 10)).fit(--.data)\n",
        "\n",
        "breast_cancer_minmaxscaled10 = min_max_scaler.transform(--.data)\"\"\""
      ],
      "execution_count": 0,
      "outputs": [
        {
          "output_type": "execute_result",
          "data": {
            "text/plain": [
              "'min_max_scaler = preprocessing.MinMaxScaler(feature_range=(0, 10)).fit(--.data)\\n\\nbreast_cancer_minmaxscaled10 = min_max_scaler.transform(--.data)'"
            ]
          },
          "metadata": {
            "tags": []
          },
          "execution_count": 5
        }
      ]
    },
    {
      "cell_type": "markdown",
      "metadata": {
        "id": "NRe3ZbOHY8BI",
        "colab_type": "text"
      },
      "source": [
        "**Normalization** (Normalization scales each sample to have a unit norm.)"
      ]
    },
    {
      "cell_type": "code",
      "metadata": {
        "id": "Z1B8rivaYx6U",
        "colab_type": "code",
        "outputId": "874629c5-7a03-4d28-f474-a507a90468c5",
        "colab": {
          "base_uri": "https://localhost:8080/",
          "height": 34
        }
      },
      "source": [
        "\"\"\"normalizer = preprocessing.Normalizer(norm='l1').fit(--.data)\n",
        "\n",
        "breast_cancer_normalized = normalizer.transform(--.data)\"\"\""
      ],
      "execution_count": 0,
      "outputs": [
        {
          "output_type": "execute_result",
          "data": {
            "text/plain": [
              "\"normalizer = preprocessing.Normalizer(norm='l1').fit(--.data)\\n\\nbreast_cancer_normalized = normalizer.transform(--.data)\""
            ]
          },
          "metadata": {
            "tags": []
          },
          "execution_count": 7
        }
      ]
    },
    {
      "cell_type": "markdown",
      "metadata": {
        "id": "NN4qUnKkZS2f",
        "colab_type": "text"
      },
      "source": [
        "**Binarization** (Binarization is the process of transforming data points to 0 or 1 based on a given threshold.)"
      ]
    },
    {
      "cell_type": "code",
      "metadata": {
        "id": "-XRr0snIZNX1",
        "colab_type": "code",
        "outputId": "85e77e12-64da-40b0-df83-dea252cf2afd",
        "colab": {
          "base_uri": "https://localhost:8080/",
          "height": 54
        }
      },
      "source": [
        "\"\"\"binarizer = preprocessing.Binarizer(threshold=3.0).fit(breast_cancer.data)\n",
        "breast_cancer_binarized = binarizer.transform(breast_cancer.data)\n",
        "print(breast_cancer_binarized[:5,:5])\"\"\""
      ],
      "execution_count": 0,
      "outputs": [
        {
          "output_type": "execute_result",
          "data": {
            "text/plain": [
              "'binarizer = preprocessing.Binarizer(threshold=3.0).fit(breast_cancer.data)\\nbreast_cancer_binarized = binarizer.transform(breast_cancer.data)\\nprint(breast_cancer_binarized[:5,:5])'"
            ]
          },
          "metadata": {
            "tags": []
          },
          "execution_count": 8
        }
      ]
    },
    {
      "cell_type": "markdown",
      "metadata": {
        "id": "5NqiPw6AZlA3",
        "colab_type": "text"
      },
      "source": [
        "**OneHotEncoder** (OneHotEncoder converts categorical integer values into one-hot vectors. In an on-hot vector, every category is transformed into a binary attribute having only 0 and 1 values.)"
      ]
    },
    {
      "cell_type": "code",
      "metadata": {
        "id": "j4yeycOeZeS3",
        "colab_type": "code",
        "outputId": "0aa35798-0c02-4edd-94ff-4a4f543fcc7e",
        "colab": {
          "base_uri": "https://localhost:8080/",
          "height": 54
        }
      },
      "source": [
        "\"\"\"onehotencoder = preprocessing.OneHotEncoder()\n",
        "onehotencoder = onehotencoder.fit([[1], [1], [1], [2], [2], [1]])\n",
        "\n",
        "# Transforming category values 1 and 2 to one-hot vectors\n",
        "print(onehotencoder.transform([[1]]).toarray())\n",
        "print(onehotencoder.transform([[2]]).toarray())\"\"\""
      ],
      "execution_count": 0,
      "outputs": [
        {
          "output_type": "execute_result",
          "data": {
            "text/plain": [
              "'onehotencoder = preprocessing.OneHotEncoder()\\nonehotencoder = onehotencoder.fit([[1], [1], [1], [2], [2], [1]])\\n\\n# Transforming category values 1 and 2 to one-hot vectors\\nprint(onehotencoder.transform([[1]]).toarray())\\nprint(onehotencoder.transform([[2]]).toarray())'"
            ]
          },
          "metadata": {
            "tags": []
          },
          "execution_count": 9
        }
      ]
    },
    {
      "cell_type": "markdown",
      "metadata": {
        "id": "zSFTcfSZZz85",
        "colab_type": "text"
      },
      "source": [
        "**Imputation** (Imputation replaces missing values with either median, mean, or the most common value of the column or row in which the missing values exist.)"
      ]
    },
    {
      "cell_type": "code",
      "metadata": {
        "id": "2HqFso0iZuQ2",
        "colab_type": "code",
        "outputId": "0cce615c-1fc9-4785-8739-14fc51ccadad",
        "colab": {
          "base_uri": "https://localhost:8080/",
          "height": 54
        }
      },
      "source": [
        "\"\"\"imputer = preprocessing.Imputer(missing_values='NaN', strategy='mean')\n",
        "\n",
        "imputer = imputer.fit(breast_cancer.data)\n",
        "breast_cancer_imputed = imputer.transform(breast_cancer.data)\"\"\""
      ],
      "execution_count": 0,
      "outputs": [
        {
          "output_type": "execute_result",
          "data": {
            "text/plain": [
              "\"imputer = preprocessing.Imputer(missing_values='NaN', strategy='mean')\\n\\nimputer = imputer.fit(breast_cancer.data)\\nbreast_cancer_imputed = imputer.transform(breast_cancer.data)\""
            ]
          },
          "metadata": {
            "tags": []
          },
          "execution_count": 10
        }
      ]
    },
    {
      "cell_type": "markdown",
      "metadata": {
        "id": "txxjls-LZ9K1",
        "colab_type": "text"
      },
      "source": [
        "**Label Encoding** (Label Encoding is a step in which, in which categorical features are represented as categorical integers)"
      ]
    },
    {
      "cell_type": "code",
      "metadata": {
        "id": "fDnXs5uUZ7LH",
        "colab_type": "code",
        "outputId": "7e15203a-4dd6-4048-d282-a60e1b24580f",
        "colab": {
          "base_uri": "https://localhost:8080/",
          "height": 54
        }
      },
      "source": [
        "\"\"\"labels = ['malignant', 'benign', 'malignant', 'benign']\n",
        "\n",
        "labelencoder = preprocessing.LabelEncoder()\n",
        "\n",
        "labelencoder = labelencoder.fit(labels)\n",
        "\n",
        "bc_labelencoded = labelencoder.transform(breast_cancer.target_names)\"\"\""
      ],
      "execution_count": 0,
      "outputs": [
        {
          "output_type": "execute_result",
          "data": {
            "text/plain": [
              "\"labels = ['malignant', 'benign', 'malignant', 'benign']\\n\\nlabelencoder = preprocessing.LabelEncoder()\\n\\nlabelencoder = labelencoder.fit(labels)\\n\\nbc_labelencoded = labelencoder.transform(breast_cancer.target_names)\""
            ]
          },
          "metadata": {
            "tags": []
          },
          "execution_count": 11
        }
      ]
    },
    {
      "cell_type": "code",
      "metadata": {
        "id": "M-Tr4Jg4aLin",
        "colab_type": "code",
        "colab": {}
      },
      "source": [
        ""
      ],
      "execution_count": 0,
      "outputs": []
    }
  ]
}